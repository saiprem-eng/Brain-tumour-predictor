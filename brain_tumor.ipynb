{
  "nbformat": 4,
  "nbformat_minor": 0,
  "metadata": {
    "colab": {
      "provenance": [],
      "gpuType": "T4",
      "authorship_tag": "ABX9TyPXV0lpvsSCfwamWGp9UQvt",
      "include_colab_link": true
    },
    "kernelspec": {
      "name": "python3",
      "display_name": "Python 3"
    },
    "language_info": {
      "name": "python"
    },
    "accelerator": "GPU"
  },
  "cells": [
    {
      "cell_type": "markdown",
      "metadata": {
        "id": "view-in-github",
        "colab_type": "text"
      },
      "source": [
        "<a href=\"https://colab.research.google.com/github/saiprem-eng/Brain-tumour-predictor/blob/master/brain_tumor.ipynb\" target=\"_parent\"><img src=\"https://colab.research.google.com/assets/colab-badge.svg\" alt=\"Open In Colab\"/></a>"
      ]
    },
    {
      "cell_type": "code",
      "source": [
        "import os\n",
        "import matplotlib.pyplot as plt\n",
        "import tensorflow as tf\n",
        "import numpy as np"
      ],
      "metadata": {
        "id": "xXXEHE9WkgC3"
      },
      "execution_count": null,
      "outputs": []
    },
    {
      "cell_type": "code",
      "source": [
        "!kaggle datasets download -d sartajbhuvaji/brain-tumor-classification-mri"
      ],
      "metadata": {
        "colab": {
          "base_uri": "https://localhost:8080/"
        },
        "id": "GQw7LLy6QR5Y",
        "outputId": "1ce4176f-e866-47f3-b345-870a5b3b3a1b"
      },
      "execution_count": null,
      "outputs": [
        {
          "output_type": "stream",
          "name": "stdout",
          "text": [
            "Dataset URL: https://www.kaggle.com/datasets/sartajbhuvaji/brain-tumor-classification-mri\n",
            "License(s): MIT\n",
            "Downloading brain-tumor-classification-mri.zip to /content\n",
            " 99% 86.0M/86.8M [00:06<00:00, 20.1MB/s]\n",
            "100% 86.8M/86.8M [00:06<00:00, 14.7MB/s]\n"
          ]
        }
      ]
    },
    {
      "cell_type": "code",
      "source": [
        "import zipfile\n",
        "zip_ref = zipfile.ZipFile('brain-tumor-classification-mri.zip')\n",
        "zip_ref.extractall()\n",
        "zip_ref.close()"
      ],
      "metadata": {
        "id": "gnFx95GDM_Gq"
      },
      "execution_count": null,
      "outputs": []
    },
    {
      "cell_type": "code",
      "source": [
        "train_dir=\"/content/Training\"\n",
        "test_dir=\"/content/Testing\""
      ],
      "metadata": {
        "id": "v-fbbxcBQXeU"
      },
      "execution_count": null,
      "outputs": []
    },
    {
      "cell_type": "code",
      "source": [
        "# Setup data inputs\n",
        "import tensorflow as tf\n",
        "IMG_SIZE = (224, 224)\n",
        "train_data_all = tf.keras.preprocessing.image_dataset_from_directory(train_dir,\n",
        "                                                                                label_mode=\"categorical\",\n",
        "                                                                                image_size=IMG_SIZE)\n",
        "\n",
        "test_data_all= tf.keras.preprocessing.image_dataset_from_directory(test_dir,\n",
        "                                                                label_mode=\"categorical\",\n",
        "                                                                image_size=IMG_SIZE,\n",
        "                                                                shuffle=False) # don't shuffle test data for prediction analysis"
      ],
      "metadata": {
        "colab": {
          "base_uri": "https://localhost:8080/"
        },
        "id": "SiOYaU6UQj8c",
        "outputId": "c47b36e3-8403-41f6-f09d-ac546bf8804d"
      },
      "execution_count": null,
      "outputs": [
        {
          "output_type": "stream",
          "name": "stdout",
          "text": [
            "Found 2870 files belonging to 4 classes.\n",
            "Found 394 files belonging to 4 classes.\n"
          ]
        }
      ]
    },
    {
      "cell_type": "code",
      "source": [
        "\n",
        "labels = ['glioma_tumor','no_tumor','meningioma_tumor','pituitary_tumor']"
      ],
      "metadata": {
        "id": "DEfd6SHITfJI"
      },
      "execution_count": null,
      "outputs": []
    },
    {
      "cell_type": "code",
      "source": [
        "\n",
        "\n",
        "X_train = []\n",
        "y_train = []\n",
        "image_size = 150\n",
        "\n",
        "# Training Data\n",
        "for label in labels:\n",
        "    folder_path = os.path.join('/content', 'Training', label)\n",
        "    for filename in os.listdir(folder_path):\n",
        "        img_path = os.path.join(folder_path, filename)\n",
        "        img = plt.imread(img_path)\n",
        "        img = tf.image.resize(img, (image_size, image_size))\n",
        "        X_train.append(img)\n",
        "        y_train.append(label)\n",
        "\n",
        "# Testing Data (added to training data)\n",
        "for label in labels:\n",
        "    folder_path = os.path.join('/content', 'Testing', label)\n",
        "    for filename in os.listdir(folder_path):\n",
        "        img_path = os.path.join(folder_path, filename)\n",
        "        img = plt.imread(img_path)\n",
        "        img = tf.image.resize(img, (image_size, image_size))\n",
        "        X_train.append(img)\n",
        "        y_train.append(label)\n",
        "\n",
        "X_train = np.array(X_train)\n",
        "y_train = np.array(y_train)\n"
      ],
      "metadata": {
        "id": "xK_kgNpNTfHH"
      },
      "execution_count": null,
      "outputs": []
    },
    {
      "source": [
        "from sklearn.utils import shuffle # Import the shuffle function\n",
        "\n",
        "X_train, y_train = shuffle(X_train,y_train, random_state=101) # Shuffle the data"
      ],
      "cell_type": "code",
      "metadata": {
        "id": "3HOAGtdTVTgO"
      },
      "execution_count": null,
      "outputs": []
    },
    {
      "source": [
        "from sklearn.model_selection import train_test_split # Import the train_test_split function\n",
        "\n",
        "X_train,X_test,y_train,y_test = train_test_split(X_train,y_train, test_size=0.1,random_state=101) # Now you can use the function"
      ],
      "cell_type": "code",
      "metadata": {
        "id": "5JKf1GdZVdN5"
      },
      "execution_count": null,
      "outputs": []
    },
    {
      "cell_type": "code",
      "source": [
        "y_train_new = []\n",
        "for i in y_train:\n",
        "    y_train_new.append(labels.index(i))\n",
        "y_train = y_train_new\n",
        "y_train = tf.keras.utils.to_categorical(y_train)\n",
        "\n",
        "\n",
        "y_test_new = []\n",
        "for i in y_test:\n",
        "    y_test_new.append(labels.index(i))\n",
        "y_test = y_test_new\n",
        "y_test = tf.keras.utils.to_categorical(y_test)"
      ],
      "metadata": {
        "id": "QBd_PmHUUwvG"
      },
      "execution_count": null,
      "outputs": []
    },
    {
      "cell_type": "code",
      "source": [
        "image_size = 224  # Example image size\n",
        "base_model = tf.keras.applications.efficientnet.EfficientNetB0(\n",
        "    include_top=False,\n",
        "    weights='imagenet',\n",
        "    input_shape=(image_size, image_size, 3)\n",
        ")\n",
        "base_model.trainable = False\n",
        "\n",
        "# Setup model architecture with trainable top layers\n",
        "inputs = layers.Input(shape=(224, 224, 3), name=\"input_layer\") # shape of input image\n",
        "x = data_augmentation(inputs) # augment images (only happens during training)\n",
        "x = base_model(x, training=False) # put the base model in inference mode so we can use it to extract features without updating the weights\n",
        "x = layers.GlobalAveragePooling2D(name=\"global_average_pooling\")(x)\n",
        "x = layers.Dropout(rate=0.3)(x) # pool the outputs of the base model\n",
        "outputs = layers.Dense(4, activation=\"softmax\", name=\"output_layer\")(x) # same number of outputs as classes\n",
        "model_3 = tf.keras.Model(inputs, outputs)\n",
        "\n",
        "# Compile\n",
        "model_3.compile(loss=\"categorical_crossentropy\",\n",
        "              optimizer=tf.keras.optimizers.Adam(), # use Adam with default settings\n",
        "              metrics=[\"accuracy\"])\n",
        "\n",
        "# Fit\n",
        "history= model_3.fit(train_data_all,\n",
        "                                           epochs=20, # fit for 5 epochs to keep experiments quick\n",
        "                                           validation_data=test_data_all,\n",
        "                                           validation_steps=int(len(test_data_all)), # evaluate on smaller portion of test data\n",
        "                                           ) # save best model weights to file"
      ],
      "metadata": {
        "id": "L80SejkvQzv9"
      },
      "execution_count": null,
      "outputs": []
    },
    {
      "cell_type": "code",
      "source": [],
      "metadata": {
        "id": "LnQHzY4pkhh4"
      },
      "execution_count": null,
      "outputs": []
    }
  ]
}